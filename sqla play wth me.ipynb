{
 "cells": [
  {
   "cell_type": "markdown",
   "metadata": {
    "slideshow": {
     "slide_type": "slide"
    }
   },
   "source": [
    "# Music Database\n",
    "We all know what music is right? How would we model a database to hold the information?\n",
    "\n",
    "\n",
    "For the simplicity's sake, let's ignore collaborations and compilations and model things like this...\n",
    "\n",
    "ARTIST has one to many TRACKs\n",
    "ALBUM has one to many TRACKS\n",
    "ARTIST has one to many ALBUMs\n",
    "TRACK has one ARTIST\n",
    "TRACK has one ALBUM\n",
    "\n",
    "So we need to create 3 tables\n",
    "ARTIST\n",
    "ALBUM\n",
    "TRACK\n",
    "\n",
    "but first, lets connect to a database"
   ]
  },
  {
   "cell_type": "code",
   "execution_count": null,
   "metadata": {
    "slideshow": {
     "slide_type": "slide"
    }
   },
   "outputs": [],
   "source": [
    "import sqlalchemy as sa\n",
    "\n",
    "DB_NAME=\"music.db\"\n",
    "engine = sa.create_engine(f\"sqlite:///{DB_NAME}\")\n",
    "meta = sa.MetaData()"
   ]
  },
  {
   "cell_type": "markdown",
   "metadata": {
    "slideshow": {
     "slide_type": "slide"
    }
   },
   "source": [
    "# Define Tables with SqlAlchemy"
   ]
  },
  {
   "cell_type": "code",
   "execution_count": null,
   "metadata": {
    "slideshow": {
     "slide_type": "subslide"
    }
   },
   "outputs": [],
   "source": [
    "# artist table\n",
    "tbl_artist = sa.Table('artist', meta,\n",
    "                  sa.Column('id',\n",
    "                            sa.Integer, \n",
    "                            primary_key=True, \n",
    "                            autoincrement=True),\n",
    "                 sa.Column('name', \n",
    "                           sa.String, \n",
    "                           unique=True, \n",
    "                           nullable=False))\n",
    "# album table\n",
    "tbl_album = sa.Table('album', meta, \n",
    "                    sa.Column('id',\n",
    "                             sa.Integer,\n",
    "                             primary_key=True,\n",
    "                             autoincrement=True),\n",
    "                    sa.Column('name', \n",
    "                              sa.String, \n",
    "                             nullable=False),\n",
    "                    sa.Column('year', \n",
    "                              sa.String), \n",
    "                    sa.Column('artist_id', \n",
    "                              sa.Integer,\n",
    "                             sa.ForeignKey('artist.id')))\n",
    "# track table\n",
    "tbl_track = sa.Table('track', meta,\n",
    "                    sa.Column('id', \n",
    "                              sa.Integer, \n",
    "                              primary_key=True,\n",
    "                              autoincrement=True),\n",
    "                    sa.Column('path', \n",
    "                             sa.String,\n",
    "                             unique=True,\n",
    "                             nullable=False),\n",
    "                    sa.Column('artist_id', \n",
    "                              sa.Integer, \n",
    "                              sa.ForeignKey('artist.id'),\n",
    "                              nullable=False),\n",
    "                    sa.Column('album_id', \n",
    "                              sa.Integer,\n",
    "                              sa.ForeignKey('album.id')),\n",
    "                     sa.Column('name', \n",
    "                               sa.String, \n",
    "                               nullable=False),\n",
    "                    sa.Column('track_number', \n",
    "                              sa.Integer),\n",
    "                    sa.Column('genre', sa.String))\n",
    "meta.drop_all(bind=engine)\n",
    "meta.create_all(bind=engine)"
   ]
  },
  {
   "cell_type": "markdown",
   "metadata": {
    "slideshow": {
     "slide_type": "slide"
    }
   },
   "source": [
    "# read in music data prepared by the tags.py file on my collection which took about 10 minutes\n"
   ]
  },
  {
   "cell_type": "code",
   "execution_count": null,
   "metadata": {
    "slideshow": {
     "slide_type": "subslide"
    }
   },
   "outputs": [],
   "source": [
    "import json\n",
    "music_json = None\n",
    "with open('music.json', 'r') as f:\n",
    "    music_json = json.loads(f.read())"
   ]
  },
  {
   "cell_type": "code",
   "execution_count": null,
   "metadata": {
    "slideshow": {
     "slide_type": "subslide"
    }
   },
   "outputs": [],
   "source": [
    "music_json[0]"
   ]
  },
  {
   "cell_type": "markdown",
   "metadata": {
    "slideshow": {
     "slide_type": "slide"
    }
   },
   "source": [
    "# need to get data from music_json into the artist, album and track tables"
   ]
  },
  {
   "cell_type": "code",
   "execution_count": null,
   "metadata": {
    "slideshow": {
     "slide_type": "subslide"
    }
   },
   "outputs": [],
   "source": [
    "for i, track_json in enumerate(music_json[0:999]):\n",
    "    with engine.begin() as connection:\n",
    "        # insert artist if not exists\n",
    "        tag_artist_name = track_json['tag_data'].get('artist', [''])[0]\n",
    "    \n",
    "        # check for existence with query\n",
    "        artist_exists = tbl_artist.select().where(\n",
    "            tbl_artist.c.name==tag_artist_name\n",
    "        )\n",
    "        \n",
    "        db_result = connection.execute(artist_exists).first()\n",
    "        \n",
    "        if db_result:\n",
    "            artist_id = db_result['id']\n",
    "        else:\n",
    "            ins_artist = tbl_artist.insert().values(name=tag_artist_name)\n",
    "            db_result = connection.execute(ins_artist)\n",
    "            artist_id = db_result.lastrowid\n",
    "\n",
    "        # insert album if not exists\n",
    "        tag_album_name = track_json['tag_data'].get('album', [''])[0]\n",
    "        tag_album_year = track_json['tag_data'].get('date', [''])[0]\n",
    "        \n",
    "        album_exists = tbl_album.select().where(sa.and_(\n",
    "            tbl_album.c.artist_id==artist_id,\n",
    "            tbl_album.c.name==tag_album_name,\n",
    "            tbl_album.c.year==tag_album_year\n",
    "        ))\n",
    "        \n",
    "        db_result = connection.execute(album_exists).first()\n",
    "        \n",
    "        if db_result:\n",
    "            album_id = db_result['id']\n",
    "        else:\n",
    "            ins_album = tbl_album.insert().values(\n",
    "                name=tag_album_name,\n",
    "                year=tag_album_year,\n",
    "                artist_id=artist_id)\n",
    "            db_result = connection.execute(ins_album)\n",
    "            album_id = db_result.lastrowid\n",
    "        \n",
    "        # insert track if not exists\n",
    "        tag_track_name = track_json['tag_data']['title'][0]\n",
    "        tag_track_path = track_json['file']\n",
    "        tag_track_track_number = track_json['tag_data'].get('tracknumber', [''])[0]\n",
    "        tag_track_genre = track_json['tag_data'].get('genre', [''])[0]\n",
    "        \n",
    "        track_exists = tbl_track.select().where(\n",
    "            tbl_track.c.path==tag_track_path\n",
    "        )\n",
    "        \n",
    "        db_result = connection.execute(track_exists).first()\n",
    "        \n",
    "        if not db_result:\n",
    "            ins_track = tbl_track.insert().values(\n",
    "                artist_id=artist_id,\n",
    "                album_id=album_id,\n",
    "                path=tag_track_path,\n",
    "                name=tag_track_name,\n",
    "                track_number=tag_track_track_number,\n",
    "                genre=tag_track_genre            \n",
    "            )\n",
    "            connection.execute(ins_track)\n",
    "\n",
    "print('done importing')"
   ]
  },
  {
   "cell_type": "code",
   "execution_count": null,
   "metadata": {
    "slideshow": {
     "slide_type": "skip"
    }
   },
   "outputs": [],
   "source": [
    "engine.execute(\"select * from artist\").fetchall()"
   ]
  }
 ],
 "metadata": {
  "kernelspec": {
   "display_name": "Python 3",
   "language": "python",
   "name": "python3"
  },
  "language_info": {
   "codemirror_mode": {
    "name": "ipython",
    "version": 3
   },
   "file_extension": ".py",
   "mimetype": "text/x-python",
   "name": "python",
   "nbconvert_exporter": "python",
   "pygments_lexer": "ipython3",
   "version": "3.7.7"
  }
 },
 "nbformat": 4,
 "nbformat_minor": 4
}
