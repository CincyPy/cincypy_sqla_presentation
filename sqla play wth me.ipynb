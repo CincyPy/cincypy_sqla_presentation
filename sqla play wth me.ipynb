{
 "cells": [
  {
   "cell_type": "markdown",
   "metadata": {},
   "source": [
    "\n",
    "# Table of Contents\n",
    "\n",
    "1.  [Intro to SQLAlchemy](#orgcd988ed)\n",
    "    1.  [Database Primer](#org726aad9)\n",
    "        1.  [Relational Database](#org8516126)\n",
    "        2.  [SQL the language](#orge344737)\n",
    "        3.  [Table Design](#org0cb102f)\n",
    "        4.  [Resources](#org8724301)\n",
    "    2.  [SQLA: The database toolkit](#org6bb0ded)\n",
    "        1.  [SqlAlchemy Core](#org50ce13c)\n",
    "        2.  [SqlAlchemy ORM](#org6e0c581)\n",
    "\n",
    "\n",
    "<a id=\"orgcd988ed\"></a>\n",
    "\n",
    "# Intro to SQLAlchemy\n",
    "\n",
    "[Play Along(github)](https://github.com/twillis/cincypy_sqla_presentation)\n",
    "\n",
    "\n",
    "<a id=\"org726aad9\"></a>\n",
    "\n",
    "## Database Primer\n",
    "\n",
    "\n",
    "<a id=\"org8516126\"></a>\n",
    "\n",
    "### Relational Database\n",
    "\n",
    "[RDBMS](https://en.wikipedia.org/wiki/Relational_database)\n",
    "\n",
    "-   data storage\n",
    "    -   structured\n",
    "    -   efficient\n",
    "    -   correct\n",
    "-   primitives\n",
    "    -   table\n",
    "        -   columns\n",
    "            -   name\n",
    "            -   data type\n",
    "            -   constrain value\n",
    "                -   nullable\n",
    "                -   unique\n",
    "                -   foreign key\n",
    "    -   rows\n",
    "    -   index\n",
    "-   server based\n",
    "    -   postgres\n",
    "    -   mysql/mariahdb\n",
    "    -   oracle\n",
    "    -   microsoft sql server\n",
    "    -   db2\n",
    "-   file based\n",
    "    -   sqlite\n",
    "\n",
    "\n",
    "<a id=\"orge344737\"></a>\n",
    "\n",
    "### SQL the language\n",
    "\n",
    "[SQL](https://en.wikipedia.org/wiki/SQL)(structured query language)\n",
    "\n",
    "-   DQL: data query language\n",
    "    -   ex: select column from table where column = value\n",
    "-   DDL: data definition language\n",
    "    -   ex: create table&#x2026;, alter table&#x2026;\n",
    "-   DML: data manipulation language\n",
    "    -   ex: insert&#x2026;, update&#x2026;\n",
    "-   DCL: data control language\n",
    "    -   ex: grant&#x2026;, revoke&#x2026;\n",
    "\n",
    "[more information](https://www.geeksforgeeks.org/sql-ddl-dql-dml-dcl-tcl-commands/)\n",
    "\n",
    "\n",
    "<a id=\"org0cb102f\"></a>\n",
    "\n",
    "### Table Design\n",
    "\n",
    "-   [normalization](https://en.wikipedia.org/wiki/Database_normalization)\n",
    "    -   Fourth Normal Form is ideal\n",
    "    -   Third Normal Form is practical\n",
    "-   relationships\n",
    "    -   uses foreign keys\n",
    "    -   establish a kind of relationship \n",
    "        -   one to many\n",
    "        -   many to one\n",
    "        -   many to many\n",
    "\n",
    "\n",
    "<a id=\"org8724301\"></a>\n",
    "\n",
    "### Resources\n",
    "\n",
    "-   [sql tutorial](https://www.sqltutorial.org/)\n",
    "-   [use the index luke](https://use-the-index-luke.com/)\n",
    "\n",
    "\n",
    "<a id=\"org6bb0ded\"></a>\n",
    "\n",
    "## SQLA: The database toolkit\n",
    "\n",
    "-   not a port of hibernate to python\n",
    "-   powerful\n",
    "-   flexible\n",
    "-   battle tested\n",
    "-   source code is a prime example of the power of python\n",
    "-   maintained by ONE PERSON\n",
    "-   [the best docs](https://docs.sqlalchemy.org/en/13/)\n",
    "-   [prevent sql injection](https://xkcd.com/327/)\n",
    "\n",
    "\n",
    "<a id=\"org50ce13c\"></a>\n",
    "\n",
    "### SqlAlchemy Core\n",
    "\n",
    "-   connect to database\n",
    "-   execute sql statements on connection and get results\n",
    "-   Table objects\n",
    "    -   define them\n",
    "    -   create them\n",
    "    -   read existing table from a database\n",
    "    -   build sql statements programatically\n",
    "\n",
    "\n",
    "<a id=\"org6e0c581\"></a>\n",
    "\n",
    "### SqlAlchemy ORM\n",
    "\n",
    "-   ORM = Object Relational Mapper\n",
    "    -   class represents a table\n",
    "    -   class instance represents a row in the table\n",
    "    -   related queries represented as properties\n",
    "-   built on core\n",
    "-   allows for queries to return class instances instead of dict like\n",
    "\n"
   ]
  },
  {
   "cell_type": "markdown",
   "metadata": {
    "slideshow": {
     "slide_type": "slide"
    }
   },
   "source": [
    "# Music Database\n",
    "We all know what music is right? How would we model a database to hold the information?\n",
    "\n",
    "\n",
    "For the simplicity's sake, let's ignore collaborations and compilations and model things like this...\n",
    "\n",
    "ARTIST has one to many TRACKs\n",
    "ALBUM has one to many TRACKS\n",
    "ARTIST has one to many ALBUMs\n",
    "TRACK has one ARTIST\n",
    "TRACK has one ALBUM\n",
    "\n",
    "So we need to create 3 tables\n",
    "ARTIST\n",
    "ALBUM\n",
    "TRACK\n",
    "\n",
    "but first, lets connect to a database"
   ]
  },
  {
   "cell_type": "code",
   "execution_count": null,
   "metadata": {
    "slideshow": {
     "slide_type": "slide"
    }
   },
   "outputs": [],
   "source": [
    "import sqlalchemy as sa\n",
    "\n",
    "DB_NAME=\"music.db\"\n",
    "engine = sa.create_engine(f\"sqlite:///{DB_NAME}\")\n",
    "meta = sa.MetaData()"
   ]
  },
  {
   "cell_type": "markdown",
   "metadata": {
    "slideshow": {
     "slide_type": "slide"
    }
   },
   "source": [
    "# Define Tables with SqlAlchemy"
   ]
  },
  {
   "cell_type": "code",
   "execution_count": null,
   "metadata": {
    "slideshow": {
     "slide_type": "subslide"
    }
   },
   "outputs": [],
   "source": [
    "# artist table\n",
    "tbl_artist = sa.Table('artist', meta,\n",
    "                  sa.Column('id',\n",
    "                            sa.Integer, \n",
    "                            primary_key=True, \n",
    "                            autoincrement=True),\n",
    "                 sa.Column('name', \n",
    "                           sa.String, \n",
    "                           unique=True, \n",
    "                           nullable=False))\n",
    "# album table\n",
    "tbl_album = sa.Table('album', meta, \n",
    "                    sa.Column('id',\n",
    "                             sa.Integer,\n",
    "                             primary_key=True,\n",
    "                             autoincrement=True),\n",
    "                    sa.Column('name', \n",
    "                              sa.String, \n",
    "                             nullable=False),\n",
    "                    sa.Column('year', \n",
    "                              sa.String), \n",
    "                    sa.Column('artist_id', \n",
    "                              sa.Integer,\n",
    "                             sa.ForeignKey('artist.id')))\n",
    "# track table\n",
    "tbl_track = sa.Table('track', meta,\n",
    "                    sa.Column('id', \n",
    "                              sa.Integer, \n",
    "                              primary_key=True,\n",
    "                              autoincrement=True),\n",
    "                    sa.Column('path', \n",
    "                             sa.String,\n",
    "                             unique=True,\n",
    "                             nullable=False),\n",
    "                    sa.Column('artist_id', \n",
    "                              sa.Integer, \n",
    "                              sa.ForeignKey('artist.id'),\n",
    "                              nullable=False),\n",
    "                    sa.Column('album_id', \n",
    "                              sa.Integer,\n",
    "                              sa.ForeignKey('album.id')),\n",
    "                     sa.Column('name', \n",
    "                               sa.String, \n",
    "                               nullable=False),\n",
    "                    sa.Column('track_number', \n",
    "                              sa.Integer),\n",
    "                    sa.Column('genre', sa.String))\n",
    "meta.drop_all(bind=engine)\n",
    "meta.create_all(bind=engine)"
   ]
  },
  {
   "cell_type": "markdown",
   "metadata": {
    "slideshow": {
     "slide_type": "slide"
    }
   },
   "source": [
    "# read in music data prepared by the tags.py file on my collection which took about 10 minutes\n"
   ]
  },
  {
   "cell_type": "code",
   "execution_count": null,
   "metadata": {
    "slideshow": {
     "slide_type": "subslide"
    }
   },
   "outputs": [],
   "source": [
    "import json\n",
    "music_json = None\n",
    "with open('music.json', 'r') as f:\n",
    "    music_json = json.loads(f.read())"
   ]
  },
  {
   "cell_type": "code",
   "execution_count": null,
   "metadata": {
    "slideshow": {
     "slide_type": "subslide"
    }
   },
   "outputs": [],
   "source": [
    "music_json[0]"
   ]
  },
  {
   "cell_type": "markdown",
   "metadata": {
    "slideshow": {
     "slide_type": "slide"
    }
   },
   "source": [
    "# need to get data from music_json into the artist, album and track tables"
   ]
  },
  {
   "cell_type": "code",
   "execution_count": null,
   "metadata": {
    "slideshow": {
     "slide_type": "subslide"
    }
   },
   "outputs": [],
   "source": [
    "for i, track_json in enumerate(music_json[0:999]):\n",
    "    with engine.begin() as connection:\n",
    "        # insert artist if not exists\n",
    "        tag_artist_name = track_json['tag_data'].get('artist', [''])[0]\n",
    "    \n",
    "        # check for existence with query\n",
    "        artist_exists = tbl_artist.select().where(\n",
    "            tbl_artist.c.name==tag_artist_name\n",
    "        )\n",
    "        \n",
    "        db_result = connection.execute(artist_exists).first()\n",
    "        \n",
    "        if db_result:\n",
    "            artist_id = db_result['id']\n",
    "        else:\n",
    "            ins_artist = tbl_artist.insert().values(name=tag_artist_name)\n",
    "            db_result = connection.execute(ins_artist)\n",
    "            artist_id = db_result.lastrowid\n",
    "\n",
    "        # insert album if not exists\n",
    "        tag_album_name = track_json['tag_data'].get('album', [''])[0]\n",
    "        tag_album_year = track_json['tag_data'].get('date', [''])[0]\n",
    "        \n",
    "        album_exists = tbl_album.select().where(sa.and_(\n",
    "            tbl_album.c.artist_id==artist_id,\n",
    "            tbl_album.c.name==tag_album_name,\n",
    "            tbl_album.c.year==tag_album_year\n",
    "        ))\n",
    "        \n",
    "        db_result = connection.execute(album_exists).first()\n",
    "        \n",
    "        if db_result:\n",
    "            album_id = db_result['id']\n",
    "        else:\n",
    "            ins_album = tbl_album.insert().values(\n",
    "                name=tag_album_name,\n",
    "                year=tag_album_year,\n",
    "                artist_id=artist_id)\n",
    "            db_result = connection.execute(ins_album)\n",
    "            album_id = db_result.lastrowid\n",
    "        \n",
    "        # insert track if not exists\n",
    "        tag_track_name = track_json['tag_data']['title'][0]\n",
    "        tag_track_path = track_json['file']\n",
    "        tag_track_track_number = track_json['tag_data'].get('tracknumber', [''])[0]\n",
    "        tag_track_genre = track_json['tag_data'].get('genre', [''])[0]\n",
    "        \n",
    "        track_exists = tbl_track.select().where(\n",
    "            tbl_track.c.path==tag_track_path\n",
    "        )\n",
    "        \n",
    "        db_result = connection.execute(track_exists).first()\n",
    "        \n",
    "        if not db_result:\n",
    "            ins_track = tbl_track.insert().values(\n",
    "                artist_id=artist_id,\n",
    "                album_id=album_id,\n",
    "                path=tag_track_path,\n",
    "                name=tag_track_name,\n",
    "                track_number=tag_track_track_number,\n",
    "                genre=tag_track_genre            \n",
    "            )\n",
    "            connection.execute(ins_track)\n",
    "\n",
    "print('done importing')"
   ]
  },
  {
   "cell_type": "code",
   "execution_count": null,
   "metadata": {
    "slideshow": {
     "slide_type": "skip"
    }
   },
   "outputs": [],
   "source": [
    "engine.execute(\"select * from artist\").fetchall()"
   ]
  },
  {
   "cell_type": "markdown",
   "metadata": {},
   "source": [
    "# So what about the ORM?\n",
    "As mentioned, sqlalchemy also comes with an object relational mapper or (ORM), which allows you to map classes to tables, and instances of those classes are mapped to rows, these kinds of classes are typically called models. It's debateable as to whether this is beneficial or not. Some tend to shy away from it because of the bad experience they had using hibernate(one of the first orm libraries) in java. MY OPINION is, that on those projects we tended to implement all the apps behaviour in the models. In general, as a rule classes, like functions should do a few well understood things rather than doing lots of things.\n",
    "\n",
    "Nonetheless, ORMs can be useful and as a rule of thumb I will try to keep the behaviour models implement retricted to behaviour associated with a row or the corresponding table. "
   ]
  },
  {
   "cell_type": "code",
   "execution_count": null,
   "metadata": {},
   "outputs": [],
   "source": [
    "import sqlalchemy as sa\n",
    "from sqlalchemy.ext.declarative import declarative_base\n",
    "from sqlalchemy.orm import relationship\n",
    "\n",
    "ModelBase = declarative_base()\n",
    "\n",
    "# tables are identical but named different so that previous \n",
    "# cells continue to work\n",
    "\n",
    "class Artist(ModelBase):\n",
    "    __tablename__ = 'artist_model'\n",
    "    id = sa.Column(sa.Integer, \n",
    "                   primary_key=True, \n",
    "                   autoincrement=True)\n",
    "    name = sa.Column(sa.String, \n",
    "                     unique=True, \n",
    "                     nullable=False)\n",
    "    albums = relationship('Album', backref='artist')\n",
    "    tracks = relationship('Track', backref='artist')\n",
    "    \n",
    "class Album(ModelBase):\n",
    "    __tablename__ = 'album_model'\n",
    "    id = sa.Column(sa.Integer,\n",
    "                   primary_key=True,\n",
    "                   autoincrement=True)\n",
    "    name = sa.Column(sa.String, \n",
    "                     nullable=False)\n",
    "    year = sa.Column(sa.String)\n",
    "    artist_id = sa.Column(sa.Integer,\n",
    "                          sa.ForeignKey('artist_model.id'))\n",
    "    tracks = relationship('Track', backref='album')\n",
    "\n",
    "class Track(ModelBase):\n",
    "    __tablename__ = 'track_model'\n",
    "    id = sa.Column(sa.Integer, \n",
    "                   primary_key=True,\n",
    "                   autoincrement=True)\n",
    "    path = sa.Column(sa.String,\n",
    "                     unique=True,\n",
    "                     nullable=False)\n",
    "    artist_id = sa.Column(sa.Integer, \n",
    "                          sa.ForeignKey('artist_model.id'),\n",
    "                          nullable=False)\n",
    "    album_id = sa.Column(sa.Integer,\n",
    "                         sa.ForeignKey('album_model.id'))\n",
    "    name = sa.Column(sa.String, \n",
    "                     nullable=False)\n",
    "    track_number = sa.Column(sa.Integer)\n",
    "    genre = sa.Column(sa.String)\n",
    "    \n",
    "ModelBase.metadata.create_all(engine)"
   ]
  },
  {
   "cell_type": "markdown",
   "metadata": {},
   "source": [
    "So far, looks pretty similar to the previous example where we were only declaring tables. Out of the box the models cannot do much because they do not have a database to talk to. sqla provides a Session object for this purpose."
   ]
  },
  {
   "cell_type": "code",
   "execution_count": null,
   "metadata": {},
   "outputs": [],
   "source": [
    "from sqlalchemy.orm import sessionmaker\n",
    "Session = sessionmaker(bind=engine) # session is now pointing to our database as configured for the engine we created previously"
   ]
  },
  {
   "cell_type": "markdown",
   "metadata": {},
   "source": [
    "# inserting rows with models"
   ]
  },
  {
   "cell_type": "code",
   "execution_count": null,
   "metadata": {},
   "outputs": [],
   "source": [
    "# create an instance of the model and set attributes\n",
    "new_artist = Artist(name='Rage Against the Machine')\n",
    "print(new_artist.id, new_artist.name)"
   ]
  },
  {
   "cell_type": "code",
   "execution_count": null,
   "metadata": {},
   "outputs": [],
   "source": [
    "session = Session()\n",
    "session.add(new_artist)\n",
    "session.commit()"
   ]
  },
  {
   "cell_type": "markdown",
   "metadata": {},
   "source": [
    "# querying"
   ]
  },
  {
   "cell_type": "code",
   "execution_count": null,
   "metadata": {},
   "outputs": [],
   "source": [
    "session = Session()\n",
    "artist = session.query(Artist).first()"
   ]
  },
  {
   "cell_type": "code",
   "execution_count": null,
   "metadata": {},
   "outputs": [],
   "source": [
    "print(artist.name, artist.id, artist.albums)"
   ]
  },
  {
   "cell_type": "markdown",
   "metadata": {},
   "source": [
    "# updating rows"
   ]
  },
  {
   "cell_type": "code",
   "execution_count": null,
   "metadata": {},
   "outputs": [],
   "source": [
    "session = Session()\n",
    "existing_artist = session.query(Artist).filter(Artist.id == 1).one()\n",
    "existing_artist.name = f\"Audio Slave (formerly {existing_artist.name})\"\n",
    "session.commit()\n",
    "\n",
    "session = Session()\n",
    "changed_existing_artist = session.query(Artist).filter(Artist.id == existing_artist.id).one()\n",
    "print(changed_existing_artist.name)\n",
    "session.commit()"
   ]
  },
  {
   "cell_type": "markdown",
   "metadata": {},
   "source": [
    "# How about relationships?"
   ]
  },
  {
   "cell_type": "code",
   "execution_count": null,
   "metadata": {},
   "outputs": [],
   "source": [
    "session = Session()\n",
    "artist = session.query(Artist).first()\n",
    "artist.albums.append(Album(name='Audioslave', year='2002'))\n",
    "session.commit()"
   ]
  },
  {
   "cell_type": "code",
   "execution_count": null,
   "metadata": {},
   "outputs": [],
   "source": [
    "Session().query(Album).count()"
   ]
  },
  {
   "cell_type": "code",
   "execution_count": null,
   "metadata": {},
   "outputs": [],
   "source": []
  }
 ],
 "metadata": {
  "kernelspec": {
   "display_name": "Python 3",
   "language": "python",
   "name": "python3"
  },
  "language_info": {
   "codemirror_mode": {
    "name": "ipython",
    "version": 3
   },
   "file_extension": ".py",
   "mimetype": "text/x-python",
   "name": "python",
   "nbconvert_exporter": "python",
   "pygments_lexer": "ipython3",
   "version": "3.7.7"
  }
 },
 "nbformat": 4,
 "nbformat_minor": 4
}
